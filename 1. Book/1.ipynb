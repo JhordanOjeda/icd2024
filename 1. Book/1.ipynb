{
 "cells": [
  {
   "cell_type": "markdown",
   "id": "29b521bb-9f9a-4885-928b-038e83b3ef3f",
   "metadata": {},
   "source": [
    "# CHAPTER 1"
   ]
  },
  {
   "cell_type": "markdown",
   "id": "d16f1b95-fd73-4379-9295-86b38a5d4d4f",
   "metadata": {},
   "source": [
    "## 00.00 Preface"
   ]
  },
  {
   "cell_type": "code",
   "execution_count": 1,
   "id": "43ce3000-a875-46d7-932a-92445b50073d",
   "metadata": {},
   "outputs": [
    {
     "ename": "ValueError",
     "evalue": "The python kernel does not appear to be a conda environment.  Please use ``%pip install`` instead.",
     "output_type": "error",
     "traceback": [
      "\u001b[1;31m---------------------------------------------------------------------------\u001b[0m",
      "\u001b[1;31mValueError\u001b[0m                                Traceback (most recent call last)",
      "Cell \u001b[1;32mIn[1], line 1\u001b[0m\n\u001b[1;32m----> 1\u001b[0m \u001b[43mget_ipython\u001b[49m\u001b[43m(\u001b[49m\u001b[43m)\u001b[49m\u001b[38;5;241;43m.\u001b[39;49m\u001b[43mrun_line_magic\u001b[49m\u001b[43m(\u001b[49m\u001b[38;5;124;43m'\u001b[39;49m\u001b[38;5;124;43mconda\u001b[39;49m\u001b[38;5;124;43m'\u001b[39;49m\u001b[43m,\u001b[49m\u001b[43m \u001b[49m\u001b[38;5;124;43m'\u001b[39;49m\u001b[38;5;124;43minstall numpy pandas scikit-learn matplotlib seaborn jupyter\u001b[39;49m\u001b[38;5;124;43m'\u001b[39;49m\u001b[43m)\u001b[49m\n",
      "File \u001b[1;32m~\\AppData\\Roaming\\Python\\Python312\\site-packages\\IPython\\core\\interactiveshell.py:2480\u001b[0m, in \u001b[0;36mInteractiveShell.run_line_magic\u001b[1;34m(self, magic_name, line, _stack_depth)\u001b[0m\n\u001b[0;32m   2478\u001b[0m     kwargs[\u001b[38;5;124m'\u001b[39m\u001b[38;5;124mlocal_ns\u001b[39m\u001b[38;5;124m'\u001b[39m] \u001b[38;5;241m=\u001b[39m \u001b[38;5;28mself\u001b[39m\u001b[38;5;241m.\u001b[39mget_local_scope(stack_depth)\n\u001b[0;32m   2479\u001b[0m \u001b[38;5;28;01mwith\u001b[39;00m \u001b[38;5;28mself\u001b[39m\u001b[38;5;241m.\u001b[39mbuiltin_trap:\n\u001b[1;32m-> 2480\u001b[0m     result \u001b[38;5;241m=\u001b[39m \u001b[43mfn\u001b[49m\u001b[43m(\u001b[49m\u001b[38;5;241;43m*\u001b[39;49m\u001b[43margs\u001b[49m\u001b[43m,\u001b[49m\u001b[43m \u001b[49m\u001b[38;5;241;43m*\u001b[39;49m\u001b[38;5;241;43m*\u001b[39;49m\u001b[43mkwargs\u001b[49m\u001b[43m)\u001b[49m\n\u001b[0;32m   2482\u001b[0m \u001b[38;5;66;03m# The code below prevents the output from being displayed\u001b[39;00m\n\u001b[0;32m   2483\u001b[0m \u001b[38;5;66;03m# when using magics with decorator @output_can_be_silenced\u001b[39;00m\n\u001b[0;32m   2484\u001b[0m \u001b[38;5;66;03m# when the last Python token in the expression is a ';'.\u001b[39;00m\n\u001b[0;32m   2485\u001b[0m \u001b[38;5;28;01mif\u001b[39;00m \u001b[38;5;28mgetattr\u001b[39m(fn, magic\u001b[38;5;241m.\u001b[39mMAGIC_OUTPUT_CAN_BE_SILENCED, \u001b[38;5;28;01mFalse\u001b[39;00m):\n",
      "File \u001b[1;32m~\\AppData\\Roaming\\Python\\Python312\\site-packages\\IPython\\core\\magics\\packaging.py:26\u001b[0m, in \u001b[0;36mis_conda_environment.<locals>.wrapper\u001b[1;34m(*args, **kwargs)\u001b[0m\n\u001b[0;32m     24\u001b[0m \u001b[38;5;66;03m# TODO: does this need to change on windows?\u001b[39;00m\n\u001b[0;32m     25\u001b[0m \u001b[38;5;28;01mif\u001b[39;00m \u001b[38;5;129;01mnot\u001b[39;00m Path(sys\u001b[38;5;241m.\u001b[39mprefix, \u001b[38;5;124m\"\u001b[39m\u001b[38;5;124mconda-meta\u001b[39m\u001b[38;5;124m\"\u001b[39m, \u001b[38;5;124m\"\u001b[39m\u001b[38;5;124mhistory\u001b[39m\u001b[38;5;124m\"\u001b[39m)\u001b[38;5;241m.\u001b[39mexists():\n\u001b[1;32m---> 26\u001b[0m     \u001b[38;5;28;01mraise\u001b[39;00m \u001b[38;5;167;01mValueError\u001b[39;00m(\n\u001b[0;32m     27\u001b[0m         \u001b[38;5;124m\"\u001b[39m\u001b[38;5;124mThe python kernel does not appear to be a conda environment.  \u001b[39m\u001b[38;5;124m\"\u001b[39m\n\u001b[0;32m     28\u001b[0m         \u001b[38;5;124m\"\u001b[39m\u001b[38;5;124mPlease use ``\u001b[39m\u001b[38;5;124m%\u001b[39m\u001b[38;5;124mpip install`` instead.\u001b[39m\u001b[38;5;124m\"\u001b[39m\n\u001b[0;32m     29\u001b[0m     )\n\u001b[0;32m     30\u001b[0m \u001b[38;5;28;01mreturn\u001b[39;00m func(\u001b[38;5;241m*\u001b[39margs, \u001b[38;5;241m*\u001b[39m\u001b[38;5;241m*\u001b[39mkwargs)\n",
      "\u001b[1;31mValueError\u001b[0m: The python kernel does not appear to be a conda environment.  Please use ``%pip install`` instead."
     ]
    }
   ],
   "source": [
    "conda install numpy pandas scikit-learn matplotlib seaborn jupyter"
   ]
  },
  {
   "cell_type": "markdown",
   "id": "a0a6073e-fcd9-45e0-badc-3b63f5396efc",
   "metadata": {},
   "source": [
    "## 01.00 Preface IPython Beyond Normal"
   ]
  },
  {
   "cell_type": "code",
   "execution_count": 2,
   "id": "51aefd88-a356-4d69-abea-42185251e152",
   "metadata": {},
   "outputs": [
    {
     "ename": "NameError",
     "evalue": "name 'ipython' is not defined",
     "output_type": "error",
     "traceback": [
      "\u001b[1;31m---------------------------------------------------------------------------\u001b[0m",
      "\u001b[1;31mNameError\u001b[0m                                 Traceback (most recent call last)",
      "Cell \u001b[1;32mIn[2], line 1\u001b[0m\n\u001b[1;32m----> 1\u001b[0m \u001b[43mipython\u001b[49m\n",
      "\u001b[1;31mNameError\u001b[0m: name 'ipython' is not defined"
     ]
    }
   ],
   "source": [
    "ipython"
   ]
  },
  {
   "cell_type": "markdown",
   "id": "5e4cdc4f-0b38-40e6-bd73-dcba1b75bb53",
   "metadata": {},
   "source": [
    "## 01.01 Help and Documentation"
   ]
  },
  {
   "cell_type": "markdown",
   "id": "5c1b3533-d7eb-4eb9-8efe-e1bb921bba7b",
   "metadata": {},
   "source": [
    "## 01.02 Shell Keyboard Shortcuts"
   ]
  },
  {
   "cell_type": "markdown",
   "id": "73962349-fbb5-469d-a2a1-b27a63f378e8",
   "metadata": {},
   "source": [
    "## 01.03 Magic Commands"
   ]
  },
  {
   "cell_type": "markdown",
   "id": "4127e0a8-af9a-4ebe-8082-74dddb8c0ef8",
   "metadata": {},
   "source": [
    "## 01.04 Input-Output History"
   ]
  },
  {
   "cell_type": "markdown",
   "id": "9a811800-85d4-474f-9e4f-0359afc1b868",
   "metadata": {},
   "source": [
    "## 01.05 IPython and Shell Commands"
   ]
  },
  {
   "cell_type": "markdown",
   "id": "d1cc74f9-b444-40a0-8e0b-66f9138cc588",
   "metadata": {},
   "source": [
    "## 01.06 Errores and Debugging"
   ]
  },
  {
   "cell_type": "markdown",
   "id": "85d2240d-e659-4f64-8067-2badfc906a4e",
   "metadata": {},
   "source": [
    "## 01.07 Timing and Profiling"
   ]
  },
  {
   "cell_type": "markdown",
   "id": "81e197b7-7563-4d60-ade8-961f6f90becf",
   "metadata": {},
   "source": [
    "## 01.08 More IPython Resources"
   ]
  },
  {
   "cell_type": "code",
   "execution_count": null,
   "id": "d89d485b-ee27-4bca-8448-5c141514590f",
   "metadata": {},
   "outputs": [],
   "source": []
  }
 ],
 "metadata": {
  "kernelspec": {
   "display_name": "Python 3 (ipykernel)",
   "language": "python",
   "name": "python3"
  },
  "language_info": {
   "codemirror_mode": {
    "name": "ipython",
    "version": 3
   },
   "file_extension": ".py",
   "mimetype": "text/x-python",
   "name": "python",
   "nbconvert_exporter": "python",
   "pygments_lexer": "ipython3",
   "version": "3.12.3"
  }
 },
 "nbformat": 4,
 "nbformat_minor": 5
}
