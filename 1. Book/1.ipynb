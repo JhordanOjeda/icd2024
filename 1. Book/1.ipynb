{
 "cells": [
  {
   "cell_type": "markdown",
   "id": "29b521bb-9f9a-4885-928b-038e83b3ef3f",
   "metadata": {},
   "source": [
    "# CHAPTER 1"
   ]
  },
  {
   "cell_type": "markdown",
   "id": "d16f1b95-fd73-4379-9295-86b38a5d4d4f",
   "metadata": {},
   "source": [
    "## 00.00 Preface"
   ]
  },
  {
   "cell_type": "code",
   "execution_count": 1,
   "id": "43ce3000-a875-46d7-932a-92445b50073d",
   "metadata": {},
   "outputs": [
    {
     "name": "stdout",
     "output_type": "stream",
     "text": [
      "Requirement already satisfied: numpy in c:\\users\\jhordan\\appdata\\local\\programs\\python\\python312\\lib\\site-packages (2.0.0)\n",
      "Requirement already satisfied: pandas in c:\\users\\jhordan\\appdata\\local\\programs\\python\\python312\\lib\\site-packages (2.2.2)\n",
      "Collecting scikit-learn\n",
      "  Downloading scikit_learn-1.5.2-cp312-cp312-win_amd64.whl.metadata (13 kB)\n",
      "Requirement already satisfied: matplotlib in c:\\users\\jhordan\\appdata\\local\\programs\\python\\python312\\lib\\site-packages (3.9.0)\n",
      "Collecting seaborn\n",
      "  Downloading seaborn-0.13.2-py3-none-any.whl.metadata (5.4 kB)\n",
      "Collecting jupyter\n",
      "  Downloading jupyter-1.1.1-py2.py3-none-any.whl.metadata (2.0 kB)\n",
      "Requirement already satisfied: python-dateutil>=2.8.2 in c:\\users\\jhordan\\appdata\\roaming\\python\\python312\\site-packages (from pandas) (2.9.0.post0)\n",
      "Requirement already satisfied: pytz>=2020.1 in c:\\users\\jhordan\\appdata\\local\\programs\\python\\python312\\lib\\site-packages (from pandas) (2024.1)\n",
      "Requirement already satisfied: tzdata>=2022.7 in c:\\users\\jhordan\\appdata\\local\\programs\\python\\python312\\lib\\site-packages (from pandas) (2024.1)\n",
      "Collecting scipy>=1.6.0 (from scikit-learn)\n",
      "  Downloading scipy-1.14.1-cp312-cp312-win_amd64.whl.metadata (60 kB)\n",
      "     ---------------------------------------- 0.0/60.8 kB ? eta -:--:--\n",
      "     ---------------------------------------- 60.8/60.8 kB 3.2 MB/s eta 0:00:00\n",
      "Collecting joblib>=1.2.0 (from scikit-learn)\n",
      "  Downloading joblib-1.4.2-py3-none-any.whl.metadata (5.4 kB)\n",
      "Collecting threadpoolctl>=3.1.0 (from scikit-learn)\n",
      "  Downloading threadpoolctl-3.5.0-py3-none-any.whl.metadata (13 kB)\n",
      "Requirement already satisfied: contourpy>=1.0.1 in c:\\users\\jhordan\\appdata\\local\\programs\\python\\python312\\lib\\site-packages (from matplotlib) (1.2.1)\n",
      "Requirement already satisfied: cycler>=0.10 in c:\\users\\jhordan\\appdata\\local\\programs\\python\\python312\\lib\\site-packages (from matplotlib) (0.12.1)\n",
      "Requirement already satisfied: fonttools>=4.22.0 in c:\\users\\jhordan\\appdata\\local\\programs\\python\\python312\\lib\\site-packages (from matplotlib) (4.53.0)\n",
      "Requirement already satisfied: kiwisolver>=1.3.1 in c:\\users\\jhordan\\appdata\\local\\programs\\python\\python312\\lib\\site-packages (from matplotlib) (1.4.5)\n",
      "Requirement already satisfied: packaging>=20.0 in c:\\users\\jhordan\\appdata\\roaming\\python\\python312\\site-packages (from matplotlib) (24.0)\n",
      "Requirement already satisfied: pillow>=8 in c:\\users\\jhordan\\appdata\\local\\programs\\python\\python312\\lib\\site-packages (from matplotlib) (10.4.0)\n",
      "Requirement already satisfied: pyparsing>=2.3.1 in c:\\users\\jhordan\\appdata\\local\\programs\\python\\python312\\lib\\site-packages (from matplotlib) (3.1.2)\n",
      "Requirement already satisfied: notebook in c:\\users\\jhordan\\appdata\\local\\programs\\python\\python312\\lib\\site-packages (from jupyter) (7.2.2)\n",
      "Collecting jupyter-console (from jupyter)\n",
      "  Downloading jupyter_console-6.6.3-py3-none-any.whl.metadata (5.8 kB)\n",
      "Requirement already satisfied: nbconvert in c:\\users\\jhordan\\appdata\\local\\programs\\python\\python312\\lib\\site-packages (from jupyter) (7.16.4)\n",
      "Requirement already satisfied: ipykernel in c:\\users\\jhordan\\appdata\\roaming\\python\\python312\\site-packages (from jupyter) (6.29.4)\n",
      "Collecting ipywidgets (from jupyter)\n",
      "  Downloading ipywidgets-8.1.5-py3-none-any.whl.metadata (2.3 kB)\n",
      "Requirement already satisfied: jupyterlab in c:\\users\\jhordan\\appdata\\local\\programs\\python\\python312\\lib\\site-packages (from jupyter) (4.2.5)\n",
      "Requirement already satisfied: six>=1.5 in c:\\users\\jhordan\\appdata\\roaming\\python\\python312\\site-packages (from python-dateutil>=2.8.2->pandas) (1.16.0)\n",
      "Requirement already satisfied: comm>=0.1.1 in c:\\users\\jhordan\\appdata\\roaming\\python\\python312\\site-packages (from ipykernel->jupyter) (0.2.2)\n",
      "Requirement already satisfied: debugpy>=1.6.5 in c:\\users\\jhordan\\appdata\\roaming\\python\\python312\\site-packages (from ipykernel->jupyter) (1.8.1)\n",
      "Requirement already satisfied: ipython>=7.23.1 in c:\\users\\jhordan\\appdata\\roaming\\python\\python312\\site-packages (from ipykernel->jupyter) (8.24.0)\n",
      "Requirement already satisfied: jupyter-client>=6.1.12 in c:\\users\\jhordan\\appdata\\roaming\\python\\python312\\site-packages (from ipykernel->jupyter) (8.6.2)\n",
      "Requirement already satisfied: jupyter-core!=5.0.*,>=4.12 in c:\\users\\jhordan\\appdata\\roaming\\python\\python312\\site-packages (from ipykernel->jupyter) (5.7.2)\n",
      "Requirement already satisfied: matplotlib-inline>=0.1 in c:\\users\\jhordan\\appdata\\roaming\\python\\python312\\site-packages (from ipykernel->jupyter) (0.1.7)\n",
      "Requirement already satisfied: nest-asyncio in c:\\users\\jhordan\\appdata\\roaming\\python\\python312\\site-packages (from ipykernel->jupyter) (1.6.0)\n",
      "Requirement already satisfied: psutil in c:\\users\\jhordan\\appdata\\roaming\\python\\python312\\site-packages (from ipykernel->jupyter) (5.9.8)\n",
      "Requirement already satisfied: pyzmq>=24 in c:\\users\\jhordan\\appdata\\roaming\\python\\python312\\site-packages (from ipykernel->jupyter) (26.0.3)\n",
      "Requirement already satisfied: tornado>=6.1 in c:\\users\\jhordan\\appdata\\roaming\\python\\python312\\site-packages (from ipykernel->jupyter) (6.4)\n",
      "Requirement already satisfied: traitlets>=5.4.0 in c:\\users\\jhordan\\appdata\\roaming\\python\\python312\\site-packages (from ipykernel->jupyter) (5.14.3)\n",
      "Collecting widgetsnbextension~=4.0.12 (from ipywidgets->jupyter)\n",
      "  Downloading widgetsnbextension-4.0.13-py3-none-any.whl.metadata (1.6 kB)\n",
      "Collecting jupyterlab-widgets~=3.0.12 (from ipywidgets->jupyter)\n",
      "  Downloading jupyterlab_widgets-3.0.13-py3-none-any.whl.metadata (4.1 kB)\n",
      "Requirement already satisfied: prompt-toolkit>=3.0.30 in c:\\users\\jhordan\\appdata\\roaming\\python\\python312\\site-packages (from jupyter-console->jupyter) (3.0.45)\n",
      "Requirement already satisfied: pygments in c:\\users\\jhordan\\appdata\\roaming\\python\\python312\\site-packages (from jupyter-console->jupyter) (2.18.0)\n",
      "Requirement already satisfied: async-lru>=1.0.0 in c:\\users\\jhordan\\appdata\\local\\programs\\python\\python312\\lib\\site-packages (from jupyterlab->jupyter) (2.0.4)\n",
      "Requirement already satisfied: httpx>=0.25.0 in c:\\users\\jhordan\\appdata\\local\\programs\\python\\python312\\lib\\site-packages (from jupyterlab->jupyter) (0.27.2)\n",
      "Requirement already satisfied: jinja2>=3.0.3 in c:\\users\\jhordan\\appdata\\local\\programs\\python\\python312\\lib\\site-packages (from jupyterlab->jupyter) (3.1.4)\n",
      "Requirement already satisfied: jupyter-lsp>=2.0.0 in c:\\users\\jhordan\\appdata\\local\\programs\\python\\python312\\lib\\site-packages (from jupyterlab->jupyter) (2.2.5)\n",
      "Requirement already satisfied: jupyter-server<3,>=2.4.0 in c:\\users\\jhordan\\appdata\\local\\programs\\python\\python312\\lib\\site-packages (from jupyterlab->jupyter) (2.14.2)\n",
      "Requirement already satisfied: jupyterlab-server<3,>=2.27.1 in c:\\users\\jhordan\\appdata\\local\\programs\\python\\python312\\lib\\site-packages (from jupyterlab->jupyter) (2.27.3)\n",
      "Requirement already satisfied: notebook-shim>=0.2 in c:\\users\\jhordan\\appdata\\local\\programs\\python\\python312\\lib\\site-packages (from jupyterlab->jupyter) (0.2.4)\n",
      "Requirement already satisfied: setuptools>=40.1.0 in c:\\users\\jhordan\\appdata\\local\\programs\\python\\python312\\lib\\site-packages (from jupyterlab->jupyter) (74.0.0)\n",
      "Requirement already satisfied: beautifulsoup4 in c:\\users\\jhordan\\appdata\\local\\programs\\python\\python312\\lib\\site-packages (from nbconvert->jupyter) (4.12.3)\n",
      "Requirement already satisfied: bleach!=5.0.0 in c:\\users\\jhordan\\appdata\\local\\programs\\python\\python312\\lib\\site-packages (from nbconvert->jupyter) (6.1.0)\n",
      "Requirement already satisfied: defusedxml in c:\\users\\jhordan\\appdata\\local\\programs\\python\\python312\\lib\\site-packages (from nbconvert->jupyter) (0.7.1)\n",
      "Requirement already satisfied: jupyterlab-pygments in c:\\users\\jhordan\\appdata\\local\\programs\\python\\python312\\lib\\site-packages (from nbconvert->jupyter) (0.3.0)\n",
      "Requirement already satisfied: markupsafe>=2.0 in c:\\users\\jhordan\\appdata\\local\\programs\\python\\python312\\lib\\site-packages (from nbconvert->jupyter) (2.1.5)\n",
      "Requirement already satisfied: mistune<4,>=2.0.3 in c:\\users\\jhordan\\appdata\\local\\programs\\python\\python312\\lib\\site-packages (from nbconvert->jupyter) (3.0.2)\n",
      "Requirement already satisfied: nbclient>=0.5.0 in c:\\users\\jhordan\\appdata\\local\\programs\\python\\python312\\lib\\site-packages (from nbconvert->jupyter) (0.10.0)\n",
      "Requirement already satisfied: nbformat>=5.7 in c:\\users\\jhordan\\appdata\\local\\programs\\python\\python312\\lib\\site-packages (from nbconvert->jupyter) (5.10.4)\n",
      "Requirement already satisfied: pandocfilters>=1.4.1 in c:\\users\\jhordan\\appdata\\local\\programs\\python\\python312\\lib\\site-packages (from nbconvert->jupyter) (1.5.1)\n",
      "Requirement already satisfied: tinycss2 in c:\\users\\jhordan\\appdata\\local\\programs\\python\\python312\\lib\\site-packages (from nbconvert->jupyter) (1.3.0)\n",
      "Requirement already satisfied: webencodings in c:\\users\\jhordan\\appdata\\local\\programs\\python\\python312\\lib\\site-packages (from bleach!=5.0.0->nbconvert->jupyter) (0.5.1)\n",
      "Requirement already satisfied: anyio in c:\\users\\jhordan\\appdata\\local\\programs\\python\\python312\\lib\\site-packages (from httpx>=0.25.0->jupyterlab->jupyter) (4.4.0)\n",
      "Requirement already satisfied: certifi in c:\\users\\jhordan\\appdata\\local\\programs\\python\\python312\\lib\\site-packages (from httpx>=0.25.0->jupyterlab->jupyter) (2024.7.4)\n",
      "Requirement already satisfied: httpcore==1.* in c:\\users\\jhordan\\appdata\\local\\programs\\python\\python312\\lib\\site-packages (from httpx>=0.25.0->jupyterlab->jupyter) (1.0.5)\n",
      "Requirement already satisfied: idna in c:\\users\\jhordan\\appdata\\local\\programs\\python\\python312\\lib\\site-packages (from httpx>=0.25.0->jupyterlab->jupyter) (3.7)\n",
      "Requirement already satisfied: sniffio in c:\\users\\jhordan\\appdata\\local\\programs\\python\\python312\\lib\\site-packages (from httpx>=0.25.0->jupyterlab->jupyter) (1.3.1)\n",
      "Requirement already satisfied: h11<0.15,>=0.13 in c:\\users\\jhordan\\appdata\\local\\programs\\python\\python312\\lib\\site-packages (from httpcore==1.*->httpx>=0.25.0->jupyterlab->jupyter) (0.14.0)\n",
      "Requirement already satisfied: decorator in c:\\users\\jhordan\\appdata\\roaming\\python\\python312\\site-packages (from ipython>=7.23.1->ipykernel->jupyter) (5.1.1)\n",
      "Requirement already satisfied: jedi>=0.16 in c:\\users\\jhordan\\appdata\\roaming\\python\\python312\\site-packages (from ipython>=7.23.1->ipykernel->jupyter) (0.19.1)\n",
      "Requirement already satisfied: stack-data in c:\\users\\jhordan\\appdata\\roaming\\python\\python312\\site-packages (from ipython>=7.23.1->ipykernel->jupyter) (0.6.3)\n",
      "Requirement already satisfied: colorama in c:\\users\\jhordan\\appdata\\roaming\\python\\python312\\site-packages (from ipython>=7.23.1->ipykernel->jupyter) (0.4.6)\n",
      "Requirement already satisfied: platformdirs>=2.5 in c:\\users\\jhordan\\appdata\\roaming\\python\\python312\\site-packages (from jupyter-core!=5.0.*,>=4.12->ipykernel->jupyter) (4.2.2)\n",
      "Requirement already satisfied: pywin32>=300 in c:\\users\\jhordan\\appdata\\roaming\\python\\python312\\site-packages (from jupyter-core!=5.0.*,>=4.12->ipykernel->jupyter) (306)\n",
      "Requirement already satisfied: argon2-cffi>=21.1 in c:\\users\\jhordan\\appdata\\local\\programs\\python\\python312\\lib\\site-packages (from jupyter-server<3,>=2.4.0->jupyterlab->jupyter) (23.1.0)\n",
      "Requirement already satisfied: jupyter-events>=0.9.0 in c:\\users\\jhordan\\appdata\\local\\programs\\python\\python312\\lib\\site-packages (from jupyter-server<3,>=2.4.0->jupyterlab->jupyter) (0.10.0)\n",
      "Requirement already satisfied: jupyter-server-terminals>=0.4.4 in c:\\users\\jhordan\\appdata\\local\\programs\\python\\python312\\lib\\site-packages (from jupyter-server<3,>=2.4.0->jupyterlab->jupyter) (0.5.3)\n",
      "Requirement already satisfied: overrides>=5.0 in c:\\users\\jhordan\\appdata\\local\\programs\\python\\python312\\lib\\site-packages (from jupyter-server<3,>=2.4.0->jupyterlab->jupyter) (7.7.0)\n",
      "Requirement already satisfied: prometheus-client>=0.9 in c:\\users\\jhordan\\appdata\\local\\programs\\python\\python312\\lib\\site-packages (from jupyter-server<3,>=2.4.0->jupyterlab->jupyter) (0.20.0)\n",
      "Requirement already satisfied: pywinpty>=2.0.1 in c:\\users\\jhordan\\appdata\\local\\programs\\python\\python312\\lib\\site-packages (from jupyter-server<3,>=2.4.0->jupyterlab->jupyter) (2.0.13)\n",
      "Requirement already satisfied: send2trash>=1.8.2 in c:\\users\\jhordan\\appdata\\local\\programs\\python\\python312\\lib\\site-packages (from jupyter-server<3,>=2.4.0->jupyterlab->jupyter) (1.8.3)\n",
      "Requirement already satisfied: terminado>=0.8.3 in c:\\users\\jhordan\\appdata\\local\\programs\\python\\python312\\lib\\site-packages (from jupyter-server<3,>=2.4.0->jupyterlab->jupyter) (0.18.1)\n",
      "Requirement already satisfied: websocket-client>=1.7 in c:\\users\\jhordan\\appdata\\local\\programs\\python\\python312\\lib\\site-packages (from jupyter-server<3,>=2.4.0->jupyterlab->jupyter) (1.8.0)\n",
      "Requirement already satisfied: babel>=2.10 in c:\\users\\jhordan\\appdata\\local\\programs\\python\\python312\\lib\\site-packages (from jupyterlab-server<3,>=2.27.1->jupyterlab->jupyter) (2.16.0)\n",
      "Requirement already satisfied: json5>=0.9.0 in c:\\users\\jhordan\\appdata\\local\\programs\\python\\python312\\lib\\site-packages (from jupyterlab-server<3,>=2.27.1->jupyterlab->jupyter) (0.9.25)\n",
      "Requirement already satisfied: jsonschema>=4.18.0 in c:\\users\\jhordan\\appdata\\local\\programs\\python\\python312\\lib\\site-packages (from jupyterlab-server<3,>=2.27.1->jupyterlab->jupyter) (4.23.0)\n",
      "Requirement already satisfied: requests>=2.31 in c:\\users\\jhordan\\appdata\\local\\programs\\python\\python312\\lib\\site-packages (from jupyterlab-server<3,>=2.27.1->jupyterlab->jupyter) (2.32.3)\n",
      "Requirement already satisfied: fastjsonschema>=2.15 in c:\\users\\jhordan\\appdata\\local\\programs\\python\\python312\\lib\\site-packages (from nbformat>=5.7->nbconvert->jupyter) (2.20.0)\n",
      "Requirement already satisfied: wcwidth in c:\\users\\jhordan\\appdata\\roaming\\python\\python312\\site-packages (from prompt-toolkit>=3.0.30->jupyter-console->jupyter) (0.2.13)\n",
      "Requirement already satisfied: soupsieve>1.2 in c:\\users\\jhordan\\appdata\\local\\programs\\python\\python312\\lib\\site-packages (from beautifulsoup4->nbconvert->jupyter) (2.6)\n",
      "Requirement already satisfied: argon2-cffi-bindings in c:\\users\\jhordan\\appdata\\local\\programs\\python\\python312\\lib\\site-packages (from argon2-cffi>=21.1->jupyter-server<3,>=2.4.0->jupyterlab->jupyter) (21.2.0)\n",
      "Requirement already satisfied: parso<0.9.0,>=0.8.3 in c:\\users\\jhordan\\appdata\\roaming\\python\\python312\\site-packages (from jedi>=0.16->ipython>=7.23.1->ipykernel->jupyter) (0.8.4)\n",
      "Requirement already satisfied: attrs>=22.2.0 in c:\\users\\jhordan\\appdata\\local\\programs\\python\\python312\\lib\\site-packages (from jsonschema>=4.18.0->jupyterlab-server<3,>=2.27.1->jupyterlab->jupyter) (23.2.0)\n",
      "Requirement already satisfied: jsonschema-specifications>=2023.03.6 in c:\\users\\jhordan\\appdata\\local\\programs\\python\\python312\\lib\\site-packages (from jsonschema>=4.18.0->jupyterlab-server<3,>=2.27.1->jupyterlab->jupyter) (2023.12.1)\n",
      "Requirement already satisfied: referencing>=0.28.4 in c:\\users\\jhordan\\appdata\\local\\programs\\python\\python312\\lib\\site-packages (from jsonschema>=4.18.0->jupyterlab-server<3,>=2.27.1->jupyterlab->jupyter) (0.35.1)\n",
      "Requirement already satisfied: rpds-py>=0.7.1 in c:\\users\\jhordan\\appdata\\local\\programs\\python\\python312\\lib\\site-packages (from jsonschema>=4.18.0->jupyterlab-server<3,>=2.27.1->jupyterlab->jupyter) (0.19.0)\n",
      "Requirement already satisfied: python-json-logger>=2.0.4 in c:\\users\\jhordan\\appdata\\local\\programs\\python\\python312\\lib\\site-packages (from jupyter-events>=0.9.0->jupyter-server<3,>=2.4.0->jupyterlab->jupyter) (2.0.7)\n",
      "Requirement already satisfied: pyyaml>=5.3 in c:\\users\\jhordan\\appdata\\local\\programs\\python\\python312\\lib\\site-packages (from jupyter-events>=0.9.0->jupyter-server<3,>=2.4.0->jupyterlab->jupyter) (6.0.2)\n",
      "Requirement already satisfied: rfc3339-validator in c:\\users\\jhordan\\appdata\\local\\programs\\python\\python312\\lib\\site-packages (from jupyter-events>=0.9.0->jupyter-server<3,>=2.4.0->jupyterlab->jupyter) (0.1.4)\n",
      "Requirement already satisfied: rfc3986-validator>=0.1.1 in c:\\users\\jhordan\\appdata\\local\\programs\\python\\python312\\lib\\site-packages (from jupyter-events>=0.9.0->jupyter-server<3,>=2.4.0->jupyterlab->jupyter) (0.1.1)\n",
      "Requirement already satisfied: charset-normalizer<4,>=2 in c:\\users\\jhordan\\appdata\\local\\programs\\python\\python312\\lib\\site-packages (from requests>=2.31->jupyterlab-server<3,>=2.27.1->jupyterlab->jupyter) (3.3.2)\n",
      "Requirement already satisfied: urllib3<3,>=1.21.1 in c:\\users\\jhordan\\appdata\\local\\programs\\python\\python312\\lib\\site-packages (from requests>=2.31->jupyterlab-server<3,>=2.27.1->jupyterlab->jupyter) (2.2.2)\n",
      "Requirement already satisfied: executing>=1.2.0 in c:\\users\\jhordan\\appdata\\roaming\\python\\python312\\site-packages (from stack-data->ipython>=7.23.1->ipykernel->jupyter) (2.0.1)\n",
      "Requirement already satisfied: asttokens>=2.1.0 in c:\\users\\jhordan\\appdata\\roaming\\python\\python312\\site-packages (from stack-data->ipython>=7.23.1->ipykernel->jupyter) (2.4.1)\n",
      "Requirement already satisfied: pure-eval in c:\\users\\jhordan\\appdata\\roaming\\python\\python312\\site-packages (from stack-data->ipython>=7.23.1->ipykernel->jupyter) (0.2.2)\n",
      "Requirement already satisfied: fqdn in c:\\users\\jhordan\\appdata\\local\\programs\\python\\python312\\lib\\site-packages (from jsonschema[format-nongpl]>=4.18.0->jupyter-events>=0.9.0->jupyter-server<3,>=2.4.0->jupyterlab->jupyter) (1.5.1)\n",
      "Requirement already satisfied: isoduration in c:\\users\\jhordan\\appdata\\local\\programs\\python\\python312\\lib\\site-packages (from jsonschema[format-nongpl]>=4.18.0->jupyter-events>=0.9.0->jupyter-server<3,>=2.4.0->jupyterlab->jupyter) (20.11.0)\n",
      "Requirement already satisfied: jsonpointer>1.13 in c:\\users\\jhordan\\appdata\\local\\programs\\python\\python312\\lib\\site-packages (from jsonschema[format-nongpl]>=4.18.0->jupyter-events>=0.9.0->jupyter-server<3,>=2.4.0->jupyterlab->jupyter) (3.0.0)\n",
      "Requirement already satisfied: uri-template in c:\\users\\jhordan\\appdata\\local\\programs\\python\\python312\\lib\\site-packages (from jsonschema[format-nongpl]>=4.18.0->jupyter-events>=0.9.0->jupyter-server<3,>=2.4.0->jupyterlab->jupyter) (1.3.0)\n",
      "Requirement already satisfied: webcolors>=24.6.0 in c:\\users\\jhordan\\appdata\\local\\programs\\python\\python312\\lib\\site-packages (from jsonschema[format-nongpl]>=4.18.0->jupyter-events>=0.9.0->jupyter-server<3,>=2.4.0->jupyterlab->jupyter) (24.8.0)\n",
      "Requirement already satisfied: cffi>=1.0.1 in c:\\users\\jhordan\\appdata\\local\\programs\\python\\python312\\lib\\site-packages (from argon2-cffi-bindings->argon2-cffi>=21.1->jupyter-server<3,>=2.4.0->jupyterlab->jupyter) (1.17.0)\n",
      "Requirement already satisfied: pycparser in c:\\users\\jhordan\\appdata\\local\\programs\\python\\python312\\lib\\site-packages (from cffi>=1.0.1->argon2-cffi-bindings->argon2-cffi>=21.1->jupyter-server<3,>=2.4.0->jupyterlab->jupyter) (2.22)\n",
      "Requirement already satisfied: arrow>=0.15.0 in c:\\users\\jhordan\\appdata\\local\\programs\\python\\python312\\lib\\site-packages (from isoduration->jsonschema[format-nongpl]>=4.18.0->jupyter-events>=0.9.0->jupyter-server<3,>=2.4.0->jupyterlab->jupyter) (1.3.0)\n",
      "Requirement already satisfied: types-python-dateutil>=2.8.10 in c:\\users\\jhordan\\appdata\\local\\programs\\python\\python312\\lib\\site-packages (from arrow>=0.15.0->isoduration->jsonschema[format-nongpl]>=4.18.0->jupyter-events>=0.9.0->jupyter-server<3,>=2.4.0->jupyterlab->jupyter) (2.9.0.20240821)\n",
      "Downloading scikit_learn-1.5.2-cp312-cp312-win_amd64.whl (11.0 MB)\n",
      "   ---------------------------------------- 0.0/11.0 MB ? eta -:--:--\n",
      "   - -------------------------------------- 0.5/11.0 MB 11.4 MB/s eta 0:00:01\n",
      "   ---- ----------------------------------- 1.2/11.0 MB 13.2 MB/s eta 0:00:01\n",
      "   ------ --------------------------------- 1.8/11.0 MB 14.4 MB/s eta 0:00:01\n",
      "   ---------- ----------------------------- 3.0/11.0 MB 17.4 MB/s eta 0:00:01\n",
      "   --------------- ------------------------ 4.4/11.0 MB 20.0 MB/s eta 0:00:01\n",
      "   ------------------------ --------------- 6.6/11.0 MB 25.0 MB/s eta 0:00:01\n",
      "   --------------------------------- ------ 9.2/11.0 MB 29.4 MB/s eta 0:00:01\n",
      "   ---------------------------------------  11.0/11.0 MB 38.5 MB/s eta 0:00:01\n",
      "   ---------------------------------------  11.0/11.0 MB 38.5 MB/s eta 0:00:01\n",
      "   ---------------------------------------  11.0/11.0 MB 38.5 MB/s eta 0:00:01\n",
      "   ---------------------------------------- 11.0/11.0 MB 24.2 MB/s eta 0:00:00\n",
      "Downloading seaborn-0.13.2-py3-none-any.whl (294 kB)\n",
      "   ---------------------------------------- 0.0/294.9 kB ? eta -:--:--\n",
      "   --------------------------------------- 294.9/294.9 kB 17.8 MB/s eta 0:00:00\n",
      "Downloading jupyter-1.1.1-py2.py3-none-any.whl (2.7 kB)\n",
      "Downloading joblib-1.4.2-py3-none-any.whl (301 kB)\n",
      "   ---------------------------------------- 0.0/301.8 kB ? eta -:--:--\n",
      "   ---------------------------------------- 301.8/301.8 kB 9.4 MB/s eta 0:00:00\n",
      "Downloading scipy-1.14.1-cp312-cp312-win_amd64.whl (44.5 MB)\n",
      "   ---------------------------------------- 0.0/44.5 MB ? eta -:--:--\n",
      "   -- ------------------------------------- 3.0/44.5 MB 65.0 MB/s eta 0:00:01\n",
      "   ----- ---------------------------------- 6.2/44.5 MB 66.4 MB/s eta 0:00:01\n",
      "   ------- -------------------------------- 8.8/44.5 MB 63.0 MB/s eta 0:00:01\n",
      "   ----------- ---------------------------- 12.4/44.5 MB 65.6 MB/s eta 0:00:01\n",
      "   ------------- -------------------------- 15.4/44.5 MB 65.6 MB/s eta 0:00:01\n",
      "   ------------------ --------------------- 20.1/44.5 MB 81.8 MB/s eta 0:00:01\n",
      "   --------------------- ------------------ 24.4/44.5 MB 93.0 MB/s eta 0:00:01\n",
      "   ------------------------ --------------- 27.1/44.5 MB 81.8 MB/s eta 0:00:01\n",
      "   -------------------------- ------------- 29.3/44.5 MB 73.1 MB/s eta 0:00:01\n",
      "   ---------------------------- ----------- 31.7/44.5 MB 59.5 MB/s eta 0:00:01\n",
      "   ------------------------------ --------- 34.4/44.5 MB 54.7 MB/s eta 0:00:01\n",
      "   --------------------------------- ------ 37.8/44.5 MB 59.5 MB/s eta 0:00:01\n",
      "   ------------------------------------ --- 40.7/44.5 MB 59.5 MB/s eta 0:00:01\n",
      "   -------------------------------------- - 43.3/44.5 MB 65.6 MB/s eta 0:00:01\n",
      "   ---------------------------------------  44.5/44.5 MB 65.6 MB/s eta 0:00:01\n",
      "   ---------------------------------------  44.5/44.5 MB 65.6 MB/s eta 0:00:01\n",
      "   ---------------------------------------  44.5/44.5 MB 65.6 MB/s eta 0:00:01\n",
      "   ---------------------------------------  44.5/44.5 MB 65.6 MB/s eta 0:00:01\n",
      "   ---------------------------------------  44.5/44.5 MB 65.6 MB/s eta 0:00:01\n",
      "   ---------------------------------------  44.5/44.5 MB 65.6 MB/s eta 0:00:01\n",
      "   ---------------------------------------- 44.5/44.5 MB 24.2 MB/s eta 0:00:00\n",
      "Downloading threadpoolctl-3.5.0-py3-none-any.whl (18 kB)\n",
      "Downloading ipywidgets-8.1.5-py3-none-any.whl (139 kB)\n",
      "   ---------------------------------------- 0.0/139.8 kB ? eta -:--:--\n",
      "   ---------------------------------------- 139.8/139.8 kB 8.6 MB/s eta 0:00:00\n",
      "Downloading jupyter_console-6.6.3-py3-none-any.whl (24 kB)\n",
      "Downloading jupyterlab_widgets-3.0.13-py3-none-any.whl (214 kB)\n",
      "   ---------------------------------------- 0.0/214.4 kB ? eta -:--:--\n",
      "   --------------------------------------- 214.4/214.4 kB 12.8 MB/s eta 0:00:00\n",
      "Downloading widgetsnbextension-4.0.13-py3-none-any.whl (2.3 MB)\n",
      "   ---------------------------------------- 0.0/2.3 MB ? eta -:--:--\n",
      "   ---------------------------------------  2.3/2.3 MB 75.0 MB/s eta 0:00:01\n",
      "   ---------------------------------------- 2.3/2.3 MB 49.5 MB/s eta 0:00:00\n",
      "Installing collected packages: widgetsnbextension, threadpoolctl, scipy, jupyterlab-widgets, joblib, scikit-learn, seaborn, ipywidgets, jupyter-console, jupyter\n",
      "Successfully installed ipywidgets-8.1.5 joblib-1.4.2 jupyter-1.1.1 jupyter-console-6.6.3 jupyterlab-widgets-3.0.13 scikit-learn-1.5.2 scipy-1.14.1 seaborn-0.13.2 threadpoolctl-3.5.0 widgetsnbextension-4.0.13\n",
      "Note: you may need to restart the kernel to use updated packages.\n"
     ]
    },
    {
     "name": "stderr",
     "output_type": "stream",
     "text": [
      "\n",
      "[notice] A new release of pip is available: 24.0 -> 24.2\n",
      "[notice] To update, run: python.exe -m pip install --upgrade pip\n"
     ]
    }
   ],
   "source": [
    "# Instalación de paquetes necesarios durante el curso\n",
    "%pip install numpy pandas scikit-learn matplotlib seaborn jupyter"
   ]
  },
  {
   "cell_type": "markdown",
   "id": "a0a6073e-fcd9-45e0-badc-3b63f5396efc",
   "metadata": {},
   "source": [
    "## 01.00 Preface IPython Beyond Normal"
   ]
  },
  {
   "cell_type": "markdown",
   "id": "8fe4fcee-dfd5-4e2d-93d6-3004866274bc",
   "metadata": {},
   "source": [
    "Ejecutar jupyter notebook desde la terminal\n",
    "$ jupyter notebook"
   ]
  },
  {
   "cell_type": "markdown",
   "id": "5e4cdc4f-0b38-40e6-bd73-dcba1b75bb53",
   "metadata": {},
   "source": [
    "## 01.01 Help and Documentation"
   ]
  },
  {
   "cell_type": "code",
   "execution_count": 5,
   "id": "7bb7f93a-46a5-494c-90f7-1ae2bc124d26",
   "metadata": {},
   "outputs": [
    {
     "name": "stdout",
     "output_type": "stream",
     "text": [
      "Help on built-in function len in module builtins:\n",
      "\n",
      "len(obj, /)\n",
      "    Return the number of items in a container.\n",
      "\n"
     ]
    }
   ],
   "source": [
    "# Pedir ayuda de la función \"len\"\n",
    "help(len)"
   ]
  },
  {
   "cell_type": "code",
   "execution_count": 9,
   "id": "f23393aa-e452-4aa5-a398-a2844c321dab",
   "metadata": {},
   "outputs": [
    {
     "data": {
      "text/plain": [
       "\u001b[1;31mSignature:\u001b[0m \u001b[0mlen\u001b[0m\u001b[1;33m(\u001b[0m\u001b[0mobj\u001b[0m\u001b[1;33m,\u001b[0m \u001b[1;33m/\u001b[0m\u001b[1;33m)\u001b[0m\u001b[1;33m\u001b[0m\u001b[1;33m\u001b[0m\u001b[0m\n",
       "\u001b[1;31mDocstring:\u001b[0m Return the number of items in a container.\n",
       "\u001b[1;31mType:\u001b[0m      builtin_function_or_method"
      ]
     },
     "metadata": {},
     "output_type": "display_data"
    }
   ],
   "source": [
    "# Otra manera de pedir ayuda de una función es con \"?\"\n",
    "len?"
   ]
  },
  {
   "cell_type": "code",
   "execution_count": 8,
   "id": "aace30d3-1b86-427f-aee0-0a18a2b7283d",
   "metadata": {},
   "outputs": [
    {
     "data": {
      "text/plain": [
       "\u001b[1;31mSignature:\u001b[0m \u001b[0mL\u001b[0m\u001b[1;33m.\u001b[0m\u001b[0minsert\u001b[0m\u001b[1;33m(\u001b[0m\u001b[0mindex\u001b[0m\u001b[1;33m,\u001b[0m \u001b[0mobject\u001b[0m\u001b[1;33m,\u001b[0m \u001b[1;33m/\u001b[0m\u001b[1;33m)\u001b[0m\u001b[1;33m\u001b[0m\u001b[1;33m\u001b[0m\u001b[0m\n",
       "\u001b[1;31mDocstring:\u001b[0m Insert object before index.\n",
       "\u001b[1;31mType:\u001b[0m      builtin_function_or_method"
      ]
     },
     "metadata": {},
     "output_type": "display_data"
    }
   ],
   "source": [
    "# También funciona para métodos de objetos\n",
    "L = [1, 2, 3]\n",
    "L.insert?"
   ]
  },
  {
   "cell_type": "code",
   "execution_count": 10,
   "id": "429d2a1e-996a-40ed-9c56-fb33d7e68ed2",
   "metadata": {},
   "outputs": [
    {
     "data": {
      "text/plain": [
       "\u001b[1;31mType:\u001b[0m        list\n",
       "\u001b[1;31mString form:\u001b[0m [1, 2, 3]\n",
       "\u001b[1;31mLength:\u001b[0m      3\n",
       "\u001b[1;31mDocstring:\u001b[0m  \n",
       "Built-in mutable sequence.\n",
       "\n",
       "If no argument is given, the constructor creates a new empty list.\n",
       "The argument must be an iterable if specified."
      ]
     },
     "metadata": {},
     "output_type": "display_data"
    }
   ],
   "source": [
    "# O en los objetos mismos\n",
    "L?"
   ]
  },
  {
   "cell_type": "code",
   "execution_count": 12,
   "id": "8f392d99-0ecf-4859-9318-bcadba53a97e",
   "metadata": {},
   "outputs": [
    {
     "data": {
      "text/plain": [
       "\u001b[1;31mSignature:\u001b[0m \u001b[0msquare\u001b[0m\u001b[1;33m(\u001b[0m\u001b[0ma\u001b[0m\u001b[1;33m)\u001b[0m\u001b[1;33m\u001b[0m\u001b[1;33m\u001b[0m\u001b[0m\n",
       "\u001b[1;31mDocstring:\u001b[0m Return the square of a.\n",
       "\u001b[1;31mFile:\u001b[0m      c:\\users\\jhordan\\appdata\\local\\temp\\ipykernel_21956\\1755828323.py\n",
       "\u001b[1;31mType:\u001b[0m      function"
      ]
     },
     "metadata": {},
     "output_type": "display_data"
    }
   ],
   "source": [
    "# También funciona para funciones propias\n",
    "def square(a):\n",
    "    \"\"\"Return the square of a.\"\"\"\n",
    "    return a ** 2\n",
    "\n",
    "square?"
   ]
  },
  {
   "cell_type": "code",
   "execution_count": 13,
   "id": "e0f21cda-f554-46e5-9da8-f8cbaaf598ed",
   "metadata": {},
   "outputs": [
    {
     "data": {
      "text/plain": [
       "\u001b[1;31mSignature:\u001b[0m \u001b[0msquare\u001b[0m\u001b[1;33m(\u001b[0m\u001b[0ma\u001b[0m\u001b[1;33m)\u001b[0m\u001b[1;33m\u001b[0m\u001b[1;33m\u001b[0m\u001b[0m\n",
       "\u001b[1;31mSource:\u001b[0m   \n",
       "\u001b[1;32mdef\u001b[0m \u001b[0msquare\u001b[0m\u001b[1;33m(\u001b[0m\u001b[0ma\u001b[0m\u001b[1;33m)\u001b[0m\u001b[1;33m:\u001b[0m\u001b[1;33m\n",
       "\u001b[0m    \u001b[1;34m\"\"\"Return the square of a.\"\"\"\u001b[0m\u001b[1;33m\n",
       "\u001b[0m    \u001b[1;32mreturn\u001b[0m \u001b[0ma\u001b[0m \u001b[1;33m**\u001b[0m \u001b[1;36m2\u001b[0m\u001b[1;33m\u001b[0m\u001b[1;33m\u001b[0m\u001b[0m\n",
       "\u001b[1;31mFile:\u001b[0m      c:\\users\\jhordan\\appdata\\local\\temp\\ipykernel_21956\\1755828323.py\n",
       "\u001b[1;31mType:\u001b[0m      function"
      ]
     },
     "metadata": {},
     "output_type": "display_data"
    }
   ],
   "source": [
    "# Acceder al código fuente con \"??\"\n",
    "square??"
   ]
  },
  {
   "cell_type": "code",
   "execution_count": 14,
   "id": "8d8a929e-3257-4933-b80d-9686499eb93e",
   "metadata": {},
   "outputs": [
    {
     "data": {
      "text/plain": [
       "\u001b[1;31mSignature:\u001b[0m \u001b[0mlen\u001b[0m\u001b[1;33m(\u001b[0m\u001b[0mobj\u001b[0m\u001b[1;33m,\u001b[0m \u001b[1;33m/\u001b[0m\u001b[1;33m)\u001b[0m\u001b[1;33m\u001b[0m\u001b[1;33m\u001b[0m\u001b[0m\n",
       "\u001b[1;31mDocstring:\u001b[0m Return the number of items in a container.\n",
       "\u001b[1;31mType:\u001b[0m      builtin_function_or_method"
      ]
     },
     "metadata": {},
     "output_type": "display_data"
    }
   ],
   "source": [
    "# En alguinos casos, \"??\" no da el código fuente, sino la misma respuesta que con \"?\"\n",
    "len??"
   ]
  },
  {
   "cell_type": "markdown",
   "id": "5ec983f9-2137-4f15-8509-62ec65dd878e",
   "metadata": {},
   "source": [
    "### Completado de contenido con tabulaciones (TAB)\n",
    "*L.(TAB)*\n",
    "\n",
    "L.append   L.copy     L.extend   L.insert   L.remove   L.sort     L.clear    L.count    L.index    L.pop      L.reverse\n",
    "\n",
    "**Escribir los primeros caracteres reduce las opciones**\n",
    "\n",
    "*L.c(TAB)*  //   L.clear  L.copy   L.count \n",
    "\n",
    "*L.co(TAB)* //    L.copy   L.count\n",
    "\n",
    "**Si solo hay una opción, utilizar (TAB) completara la linea**\n",
    "\n",
    "*L.cou(TAB)* --> L.count\n",
    "\n",
    "**(Tab) es util al importar objetos desde paquetes. Aqui podemos ver todos los disponibles del paquete *itertools* que comienzan con *co*:\n",
    "\n",
    "*from itertools import co(TAB)*   combinations / compress / combinations_with_replacement / count\n",
    "\n",
    "**De manera simila, se pueden ver que importaciones están disponibles en tu sistema.\n",
    "\n",
    "*import (TAB)*\n",
    "\n",
    "Display all 399 possibilities? (y or n)\n",
    "\n",
    "Crypto /             dis /                py_compile /\n",
    "Cython /             distutils /          pyclbr /\n",
    "... /\n",
    "difflib /            pwd /                zmq\n",
    "\n",
    "\n",
    "\n"
   ]
  },
  {
   "cell_type": "markdown",
   "id": "44313544-a5a8-42e5-aeda-8299d235c6d9",
   "metadata": {},
   "source": [
    "**(TAB) es útil si se conocen los primeros caracteres, pero también sería útil poder buscar por caracteres en medio o al final de la palabra. Para ello, también se pueden realizar busquedas por patrones (wildcard matching) con * . Por ejemplo, buscar todo lo que termine con *Warning* :**"
   ]
  },
  {
   "cell_type": "code",
   "execution_count": 17,
   "id": "41c77fd9-fe89-4e07-895d-7661d6c00af3",
   "metadata": {},
   "outputs": [
    {
     "data": {
      "text/plain": [
       "BytesWarning\n",
       "DeprecationWarning\n",
       "EncodingWarning\n",
       "FutureWarning\n",
       "ImportWarning\n",
       "PendingDeprecationWarning\n",
       "ResourceWarning\n",
       "RuntimeWarning\n",
       "SyntaxWarning\n",
       "UnicodeWarning\n",
       "UserWarning\n",
       "Warning"
      ]
     },
     "metadata": {},
     "output_type": "display_data"
    }
   ],
   "source": [
    "*Warning?"
   ]
  },
  {
   "cell_type": "code",
   "execution_count": 18,
   "id": "786d9f3c-ecdc-4eb6-8ea1-38e6388e657c",
   "metadata": {},
   "outputs": [
    {
     "data": {
      "text/plain": [
       "str.find\n",
       "str.rfind"
      ]
     },
     "metadata": {},
     "output_type": "display_data"
    }
   ],
   "source": [
    "# De manera similar, podemos buscar métodos que contengan la palabra 'find' en alguna parte\n",
    "str.*find*?"
   ]
  },
  {
   "cell_type": "markdown",
   "id": "5c1b3533-d7eb-4eb9-8efe-e1bb921bba7b",
   "metadata": {},
   "source": [
    "## 01.02 Shell Keyboard Shortcuts"
   ]
  },
  {
   "cell_type": "code",
   "execution_count": null,
   "id": "5b6d36b3-f915-42f9-b5ab-0b0f7b4bb2b3",
   "metadata": {},
   "outputs": [],
   "source": []
  },
  {
   "cell_type": "markdown",
   "id": "73962349-fbb5-469d-a2a1-b27a63f378e8",
   "metadata": {},
   "source": [
    "## 01.03 Magic Commands"
   ]
  },
  {
   "cell_type": "markdown",
   "id": "4127e0a8-af9a-4ebe-8082-74dddb8c0ef8",
   "metadata": {},
   "source": [
    "## 01.04 Input-Output History"
   ]
  },
  {
   "cell_type": "markdown",
   "id": "9a811800-85d4-474f-9e4f-0359afc1b868",
   "metadata": {},
   "source": [
    "## 01.05 IPython and Shell Commands"
   ]
  },
  {
   "cell_type": "markdown",
   "id": "d1cc74f9-b444-40a0-8e0b-66f9138cc588",
   "metadata": {},
   "source": [
    "## 01.06 Errores and Debugging"
   ]
  },
  {
   "cell_type": "markdown",
   "id": "85d2240d-e659-4f64-8067-2badfc906a4e",
   "metadata": {},
   "source": [
    "## 01.07 Timing and Profiling"
   ]
  },
  {
   "cell_type": "markdown",
   "id": "81e197b7-7563-4d60-ade8-961f6f90becf",
   "metadata": {},
   "source": [
    "## 01.08 More IPython Resources"
   ]
  },
  {
   "cell_type": "code",
   "execution_count": null,
   "id": "d89d485b-ee27-4bca-8448-5c141514590f",
   "metadata": {},
   "outputs": [],
   "source": []
  }
 ],
 "metadata": {
  "kernelspec": {
   "display_name": "Python 3 (ipykernel)",
   "language": "python",
   "name": "python3"
  },
  "language_info": {
   "codemirror_mode": {
    "name": "ipython",
    "version": 3
   },
   "file_extension": ".py",
   "mimetype": "text/x-python",
   "name": "python",
   "nbconvert_exporter": "python",
   "pygments_lexer": "ipython3",
   "version": "3.12.3"
  }
 },
 "nbformat": 4,
 "nbformat_minor": 5
}
