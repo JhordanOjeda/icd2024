{
 "cells": [
  {
   "cell_type": "markdown",
   "id": "d8e8b0a0-a007-4e60-ac2a-67a9d9271e4d",
   "metadata": {},
   "source": [
    "# Tarea 2: BoW\n",
    "## 1. Instalación e importación de paquetes"
   ]
  },
  {
   "cell_type": "code",
   "execution_count": 1,
   "id": "428b7e05-eef1-434b-8b30-2ddc4c4c192e",
   "metadata": {
    "scrolled": true
   },
   "outputs": [],
   "source": [
    "#!pip install spacy\n",
    "#!pip install nltk\n",
    "#!pip install scikit-learn"
   ]
  },
  {
   "cell_type": "code",
   "execution_count": 2,
   "id": "e61d7952-179b-4932-b6c0-b26f7ce9c22e",
   "metadata": {},
   "outputs": [],
   "source": [
    "import pandas as pd\n",
    "import re\n",
    "import spacy as spc\n",
    "import nltk\n",
    "from nltk.corpus import stopwords\n",
    "from nltk.tokenize import word_tokenize\n",
    "from sklearn.feature_extraction.text import CountVectorizer"
   ]
  },
  {
   "cell_type": "code",
   "execution_count": 3,
   "id": "83ed872b-6ede-4057-94f0-2e096bfd6840",
   "metadata": {},
   "outputs": [
    {
     "name": "stderr",
     "output_type": "stream",
     "text": [
      "[nltk_data] Downloading package stopwords to\n",
      "[nltk_data]     C:\\Users\\Asus\\AppData\\Roaming\\nltk_data...\n",
      "[nltk_data]   Package stopwords is already up-to-date!\n",
      "[nltk_data] Downloading package punkt to\n",
      "[nltk_data]     C:\\Users\\Asus\\AppData\\Roaming\\nltk_data...\n",
      "[nltk_data]   Package punkt is already up-to-date!\n"
     ]
    }
   ],
   "source": [
    "nlp = spc.load(\"es_core_news_sm\")\n",
    "nltk.download('stopwords')\n",
    "nltk.download('punkt')\n",
    "spanish_stopwords = stopwords.words('spanish')"
   ]
  },
  {
   "cell_type": "markdown",
   "id": "69647368-87fe-4983-98c2-0acb81d29588",
   "metadata": {},
   "source": [
    "## 2. Lectura del archivo CSV"
   ]
  },
  {
   "cell_type": "code",
   "execution_count": 4,
   "id": "3c7b7a51-a7e6-4e4e-b734-ef9b8fe75a9a",
   "metadata": {},
   "outputs": [
    {
     "name": "stdout",
     "output_type": "stream",
     "text": [
      "   label                                               text\n",
      "0      1  ESAS COSAS Y OTRAS PUEDEN PASAR POR MANTENER A...\n",
      "1      1  28: te amodio, odio a la perra de tu amiga ☺️☺...\n",
      "2      1  @LaDivinaDiva Callate maldita perra. O seguro ...\n",
      "3      1  @MarysabelPuerto Mejor callate cara de puta o ...\n",
      "4      1  @xarita327 @TRIKYHUMOR @yonier2012 @casTa1326 ...\n"
     ]
    }
   ],
   "source": [
    "df = pd.read_csv(\"df_mini_HS.csv\")\n",
    "print(df.head())"
   ]
  },
  {
   "cell_type": "markdown",
   "id": "ad1a930c-e4e1-4fc1-9aa8-e1e79ce433c5",
   "metadata": {},
   "source": [
    "## 3. Limpieza de texto"
   ]
  },
  {
   "cell_type": "code",
   "execution_count": 5,
   "id": "50f45c34-2c73-46a2-a648-b7f944f406d3",
   "metadata": {},
   "outputs": [],
   "source": [
    "def text_cleaning(text):\n",
    "    text = text.lower()\n",
    "    text = re.sub(r\"@\\S+\", \"\", text)  # Eliminar menciones a usuarios\n",
    "    text = re.sub(r\"http[s]?\\://\\S+\", \"\", text)  # Eliminar enlaces\n",
    "    text = re.sub(r\"#\\S+\", \"\", text)  # Eliminar hashtags\n",
    "    text = re.sub(r\"[0-9]\", \"\", text)  # Eliminar números\n",
    "    text = re.sub(r\"(\\(.*\\))|(\\[.*\\])\", \"\", text)  # Eliminar paréntesis y corchetes\n",
    "    text = re.sub(r\"\\n\", \"\", text)  # Eliminar caracteres de nueva línea\n",
    "    text = re.sub(r\"(\\.)|(,)\", \"\", text)  # Eliminar puntos y comas\n",
    "    text = re.sub(r\"[¡!]\", \"\", text)  # Eliminar signos de admiración \n",
    "    text = re.sub(r\"[¿?]\", \"\", text)  # Eliminar signos de exclamación\n",
    "    return text"
   ]
  },
  {
   "cell_type": "code",
   "execution_count": 6,
   "id": "114dcd5c-c1f6-4d8a-a674-cf67d06c4014",
   "metadata": {},
   "outputs": [],
   "source": [
    "df['text'] = df['text'].apply(text_cleaning)"
   ]
  },
  {
   "cell_type": "markdown",
   "id": "03c3c020-b87c-41e1-b2dd-4a65fbcf95ce",
   "metadata": {},
   "source": [
    "## 4. Tokenización"
   ]
  },
  {
   "cell_type": "code",
   "execution_count": 7,
   "id": "4aef0968-e342-4b9b-bf28-20c20d17cb74",
   "metadata": {},
   "outputs": [],
   "source": [
    "def tokenization(text):\n",
    "    tokens = word_tokenize(text)\n",
    "    return tokens"
   ]
  },
  {
   "cell_type": "code",
   "execution_count": 8,
   "id": "bf28abe1-31dd-4a18-be92-495fa94d4c0c",
   "metadata": {
    "scrolled": true
   },
   "outputs": [
    {
     "name": "stdout",
     "output_type": "stream",
     "text": [
      "0     [esas, cosas, y, otras, pueden, pasar, por, ma...\n",
      "1     [:, te, amodio, odio, a, la, perra, de, tu, am...\n",
      "2     [callate, maldita, perra, o, seguro, eres, un,...\n",
      "3     [mejor, callate, cara, de, puta, o, reputa, co...\n",
      "4                                       [cállate, puta]\n",
      "5                                       [callate, puta]\n",
      "6     [y, el, inmigrante, recibe, ayuda, del, rico, ...\n",
      "7     [de, los, moros, no, se, puede, esperar, nada,...\n",
      "8     [por, que, si, a, una, mujer, le, pegan, un, t...\n",
      "9     [analicemos, esto, :, si, te, pones, unos, sho...\n",
      "10    [``, see, tal, vez, les, recordo, como, peron,...\n",
      "11    [pietrapierce, story, :, purs, sangs, arabes, ...\n",
      "12    [qué, dice, este, de, frivolizar, el, acoso, e...\n",
      "13    [🇨🇭, retira, el, permiso, a, refugiados, que, ...\n",
      "14    [hoy, quiero, denunciaaaaaaar, a, la, gente, p...\n",
      "15    [redomicilie, su, sociedad, offshore, en, emir...\n",
      "16    [basta, poned, pie, en, pared, a, tanta, provo...\n",
      "17    [semana, de, la, juventud, torneo, futbol, /, ...\n",
      "18      [callate, y, metete, party, de, una, puta, vez]\n",
      "19    [cuántos, inmigrantes, creemos, que, hay, y, c...\n",
      "Name: text, dtype: object\n"
     ]
    }
   ],
   "source": [
    "tokens = df['text'].apply(tokenization)\n",
    "print(tokens)"
   ]
  },
  {
   "cell_type": "markdown",
   "id": "546323b7-01de-4f73-b596-805083c52aff",
   "metadata": {},
   "source": [
    "## 5. Filtrar 'Stop Words'"
   ]
  },
  {
   "cell_type": "code",
   "execution_count": 9,
   "id": "c3c791a1-9b26-4b83-80a0-529cf1553f86",
   "metadata": {},
   "outputs": [
    {
     "name": "stdout",
     "output_type": "stream",
     "text": [
      "cuántos inmigrantes creemos cuántos realidad ciudadanos lugar llamado mundo\n"
     ]
    }
   ],
   "source": [
    "filtered_words = [word for sublist in tokens for word in sublist if word not in spanish_stopwords]\n",
    "\n",
    "filtered_texts = []\n",
    "for token_list in tokens:\n",
    "    filtered_text = \" \".join([word for word in token_list if word not in spanish_stopwords])\n",
    "    filtered_texts.append(filtered_text)\n",
    "    \n",
    "print(filtered_text)"
   ]
  },
  {
   "cell_type": "markdown",
   "id": "f5597e1a-76f1-4bc4-bf4c-39ca3d0291d6",
   "metadata": {},
   "source": [
    "## 6. Lematización"
   ]
  },
  {
   "cell_type": "code",
   "execution_count": 10,
   "id": "e597bf4e-35a0-4ea2-ae23-51f9bf96e31b",
   "metadata": {},
   "outputs": [
    {
     "name": "stdout",
     "output_type": "stream",
     "text": [
      "['cosa poder pasar mantener inmigracion ilegal españa expulsarlos - agresión mantero turista poner colau aprieto vía', ': amodio odio perra amigo ☺ ️ ☺ ️pero vida * tijerazo *', 'callate maldito perra seguro pobre marico detras user femenino chavista colaborador', 'mejor callate cara puta reputa madre nota hacer falta', 'cállate puto', 'callate puto', 'inmigrante recibir ayuda rico ladrón olvidar nacional mientras viola mata pintado verdad medio', 'moro poder esperar bueno decir propio árabe luchado', 'si mujer peguir tiro cabeza durar tres dia morir él tres dia bala encontrar cerebro', 'analicer : si pón shorts así calle esperas decir acoso provocación', \"` ` see tal vez recordo peron protegio eichmann ciento nazi conto arab ` ` '' chiste arar garcho camello '' ''\", 'pietrapiercir story : purs sang arab stars des festivit agar m', 'decir frivolizar acoso escolar favor queréis dejar decir semejante tontería', '🇨 🇭 retirar permiso refugiado vacación país vía', 'hoy quiero denunciaaaaaaar gente puto guarra oler sudor chorizo subir bus dejar tol mundo ko shame on you 🤬', 'redomicilie sociedad offshore emirato árabe unido', 'bastar poned pie pared tanto provocación cortad humillación cuatro hijo perrir', 'semana juventud torneo futbol / futbol categoria cadete equipo inscrito : yogurines elite rayo donbenitensar negrata fuenlabrado minato kiev josewifakers voolka', 'callate metete party puta vez', 'cuánto inmigrante creer cuánto realidad ciudadano lugar llamado mundo']\n"
     ]
    }
   ],
   "source": [
    "lemmas = [nlp(text) for text in filtered_texts]\n",
    "lemma_texts = [\" \".join([token.lemma_ for token in lemma]) for lemma in lemmas]\n",
    "df['lemma_text'] = lemma_texts\n",
    "print(lemma_texts)"
   ]
  },
  {
   "cell_type": "markdown",
   "id": "179323ad-dae3-4db4-9104-314dd9ead37c",
   "metadata": {},
   "source": [
    "## 7. Bag of Words (BoW)"
   ]
  },
  {
   "cell_type": "code",
   "execution_count": 11,
   "id": "e6803a55-9d7a-4329-842c-d851e457908e",
   "metadata": {},
   "outputs": [],
   "source": [
    "vectorizer = CountVectorizer()\n",
    "vecs = vectorizer.fit_transform(df['lemma_text'])\n",
    "vocabulary = vectorizer.get_feature_names_out()"
   ]
  },
  {
   "cell_type": "code",
   "execution_count": 12,
   "id": "f95130ce-3964-40b4-a98e-da79f15db60e",
   "metadata": {
    "scrolled": true
   },
   "outputs": [
    {
     "name": "stdout",
     "output_type": "stream",
     "text": [
      "Oración de entrada: 0     esas cosas y otras pueden pasar por mantener a...\n",
      "1     : te amodio odio a la perra de tu amiga ☺️☺️pe...\n",
      "2      callate maldita perra o seguro eres un pobre ...\n",
      "3      mejor callate cara de puta o reputa como tu m...\n",
      "4                                          cállate puta\n",
      "5                                          callate puta\n",
      "6     y el inmigrante recibe ayuda del rico estado l...\n",
      "7     de los moros no se puede esperar nada bueno y ...\n",
      "8     por que si a una mujer le pegan un tiro en la ...\n",
      "9     analicemos esto: si te pones unos shorts así e...\n",
      "10    \"see tal vez les recordo como peron protegio a...\n",
      "11    pietrapierce story: purs sangs arabes stars de...\n",
      "12    qué dice este de frivolizar el acoso escolar p...\n",
      "13     🇨🇭 retira el permiso a  refugiados que fueron...\n",
      "14    hoy quiero denunciaaaaaaar a la gente puto gua...\n",
      "15    redomicilie su sociedad offshore en emiratos á...\n",
      "16     basta poned pie en pared a tanta provocación ...\n",
      "17    semana de la juventud torneo futbol  / futbol ...\n",
      "18               callate y metete party de una puta vez\n",
      "19    cuántos inmigrantes creemos que hay y cuántos ...\n",
      "Name: text, dtype: object \n",
      "\n",
      "Oración lematizada: 0     cosa poder pasar mantener inmigracion ilegal e...\n",
      "1     : amodio odio perra amigo ☺ ️ ☺ ️pero vida * t...\n",
      "2     callate maldito perra seguro pobre marico detr...\n",
      "3     mejor callate cara puta reputa madre nota hace...\n",
      "4                                          cállate puto\n",
      "5                                          callate puto\n",
      "6     inmigrante recibir ayuda rico ladrón olvidar n...\n",
      "7     moro poder esperar bueno decir propio árabe lu...\n",
      "8     si mujer peguir tiro cabeza durar tres dia mor...\n",
      "9     analicer : si pón shorts así calle esperas dec...\n",
      "10    ` ` see tal vez recordo peron protegio eichman...\n",
      "11    pietrapiercir story : purs sang arab stars des...\n",
      "12    decir frivolizar acoso escolar favor queréis d...\n",
      "13      🇨 🇭 retirar permiso refugiado vacación país vía\n",
      "14    hoy quiero denunciaaaaaaar gente puto guarra o...\n",
      "15    redomicilie sociedad offshore emirato árabe unido\n",
      "16    bastar poned pie pared tanto provocación corta...\n",
      "17    semana juventud torneo futbol / futbol categor...\n",
      "18                        callate metete party puta vez\n",
      "19    cuánto inmigrante creer cuánto realidad ciudad...\n",
      "Name: lemma_text, dtype: object \n",
      "\n",
      "Vectores Bag of Words: [[0 0 1 ... 0 0 0]\n",
      " [0 0 0 ... 0 0 0]\n",
      " [0 0 0 ... 0 0 0]\n",
      " ...\n",
      " [0 0 0 ... 0 0 0]\n",
      " [0 0 0 ... 0 0 0]\n",
      " [0 0 0 ... 0 0 0]] \n",
      "\n",
      "Vocabulario: ['acoso' 'agar' 'agresión' 'amigo' 'amodio' 'analicer' 'aprieto' 'arab'\n",
      " 'arar' 'así' 'ayuda' 'bala' 'bastar' 'bueno' 'bus' 'cabeza' 'cadete'\n",
      " 'callate' 'calle' 'camello' 'cara' 'categoria' 'cerebro' 'chavista'\n",
      " 'chiste' 'chorizo' 'ciento' 'ciudadano' 'colaborador' 'colau' 'conto'\n",
      " 'cortad' 'cosa' 'creer' 'cuatro' 'cuánto' 'cállate' 'decir' 'dejar'\n",
      " 'denunciaaaaaaar' 'des' 'detras' 'dia' 'donbenitensar' 'durar' 'eichmann'\n",
      " 'elite' 'emirato' 'encontrar' 'equipo' 'escolar' 'españa' 'esperar'\n",
      " 'esperas' 'expulsarlos' 'falta' 'favor' 'femenino' 'festivit'\n",
      " 'frivolizar' 'fuenlabrado' 'futbol' 'garcho' 'gente' 'guarra' 'hacer'\n",
      " 'hijo' 'hoy' 'humillación' 'ilegal' 'inmigracion' 'inmigrante' 'inscrito'\n",
      " 'josewifakers' 'juventud' 'kiev' 'ko' 'ladrón' 'llamado' 'luchado'\n",
      " 'lugar' 'madre' 'maldito' 'mantener' 'mantero' 'marico' 'mata' 'medio'\n",
      " 'mejor' 'metete' 'mientras' 'minato' 'morir' 'moro' 'mujer' 'mundo'\n",
      " 'nacional' 'nazi' 'negrata' 'nota' 'odio' 'offshore' 'oler' 'olvidar'\n",
      " 'on' 'pared' 'party' 'pasar' 'país' 'peguir' 'permiso' 'pero' 'peron'\n",
      " 'perra' 'perrir' 'pie' 'pietrapiercir' 'pintado' 'pobre' 'poder' 'poned'\n",
      " 'poner' 'propio' 'protegio' 'provocación' 'purs' 'puta' 'puto' 'pón'\n",
      " 'queréis' 'quiero' 'rayo' 'realidad' 'recibir' 'recordo' 'redomicilie'\n",
      " 'refugiado' 'reputa' 'retirar' 'rico' 'sang' 'see' 'seguro' 'semana'\n",
      " 'semejante' 'shame' 'shorts' 'si' 'sociedad' 'stars' 'story' 'subir'\n",
      " 'sudor' 'tal' 'tanto' 'tijerazo' 'tiro' 'tol' 'tontería' 'torneo' 'tres'\n",
      " 'turista' 'unido' 'user' 'vacación' 'verdad' 'vez' 'vida' 'viola'\n",
      " 'voolka' 'vía' 'yogurines' 'you' 'árabe' 'él']\n"
     ]
    }
   ],
   "source": [
    "print(\"Oración de entrada:\", df['text'],\"\\n\")\n",
    "print(\"Oración lematizada:\", df['lemma_text'],\"\\n\")\n",
    "print(\"Vectores Bag of Words:\", vecs.toarray(),\"\\n\")\n",
    "print(\"Vocabulario:\", vocabulary)"
   ]
  },
  {
   "cell_type": "code",
   "execution_count": 13,
   "id": "8feccb29-eda4-4197-99e8-3a5048681244",
   "metadata": {},
   "outputs": [],
   "source": [
    "bow = pd.DataFrame.sparse.from_spmatrix(vecs, columns=vocabulary)\n",
    "bow['label'] = df['label'].values"
   ]
  },
  {
   "cell_type": "code",
   "execution_count": 14,
   "id": "820f505d-f7a0-4e05-943c-3d02cbcfa27f",
   "metadata": {},
   "outputs": [
    {
     "data": {
      "text/html": [
       "<div>\n",
       "<style scoped>\n",
       "    .dataframe tbody tr th:only-of-type {\n",
       "        vertical-align: middle;\n",
       "    }\n",
       "\n",
       "    .dataframe tbody tr th {\n",
       "        vertical-align: top;\n",
       "    }\n",
       "\n",
       "    .dataframe thead th {\n",
       "        text-align: right;\n",
       "    }\n",
       "</style>\n",
       "<table border=\"1\" class=\"dataframe\">\n",
       "  <thead>\n",
       "    <tr style=\"text-align: right;\">\n",
       "      <th></th>\n",
       "      <th>acoso</th>\n",
       "      <th>agar</th>\n",
       "      <th>agresión</th>\n",
       "      <th>amigo</th>\n",
       "      <th>amodio</th>\n",
       "      <th>analicer</th>\n",
       "      <th>aprieto</th>\n",
       "      <th>arab</th>\n",
       "      <th>arar</th>\n",
       "      <th>así</th>\n",
       "      <th>...</th>\n",
       "      <th>vez</th>\n",
       "      <th>vida</th>\n",
       "      <th>viola</th>\n",
       "      <th>voolka</th>\n",
       "      <th>vía</th>\n",
       "      <th>yogurines</th>\n",
       "      <th>you</th>\n",
       "      <th>árabe</th>\n",
       "      <th>él</th>\n",
       "      <th>label</th>\n",
       "    </tr>\n",
       "  </thead>\n",
       "  <tbody>\n",
       "    <tr>\n",
       "      <th>0</th>\n",
       "      <td>0</td>\n",
       "      <td>0</td>\n",
       "      <td>1</td>\n",
       "      <td>0</td>\n",
       "      <td>0</td>\n",
       "      <td>0</td>\n",
       "      <td>1</td>\n",
       "      <td>0</td>\n",
       "      <td>0</td>\n",
       "      <td>0</td>\n",
       "      <td>...</td>\n",
       "      <td>0</td>\n",
       "      <td>0</td>\n",
       "      <td>0</td>\n",
       "      <td>0</td>\n",
       "      <td>1</td>\n",
       "      <td>0</td>\n",
       "      <td>0</td>\n",
       "      <td>0</td>\n",
       "      <td>0</td>\n",
       "      <td>1</td>\n",
       "    </tr>\n",
       "    <tr>\n",
       "      <th>1</th>\n",
       "      <td>0</td>\n",
       "      <td>0</td>\n",
       "      <td>0</td>\n",
       "      <td>1</td>\n",
       "      <td>1</td>\n",
       "      <td>0</td>\n",
       "      <td>0</td>\n",
       "      <td>0</td>\n",
       "      <td>0</td>\n",
       "      <td>0</td>\n",
       "      <td>...</td>\n",
       "      <td>0</td>\n",
       "      <td>1</td>\n",
       "      <td>0</td>\n",
       "      <td>0</td>\n",
       "      <td>0</td>\n",
       "      <td>0</td>\n",
       "      <td>0</td>\n",
       "      <td>0</td>\n",
       "      <td>0</td>\n",
       "      <td>1</td>\n",
       "    </tr>\n",
       "    <tr>\n",
       "      <th>2</th>\n",
       "      <td>0</td>\n",
       "      <td>0</td>\n",
       "      <td>0</td>\n",
       "      <td>0</td>\n",
       "      <td>0</td>\n",
       "      <td>0</td>\n",
       "      <td>0</td>\n",
       "      <td>0</td>\n",
       "      <td>0</td>\n",
       "      <td>0</td>\n",
       "      <td>...</td>\n",
       "      <td>0</td>\n",
       "      <td>0</td>\n",
       "      <td>0</td>\n",
       "      <td>0</td>\n",
       "      <td>0</td>\n",
       "      <td>0</td>\n",
       "      <td>0</td>\n",
       "      <td>0</td>\n",
       "      <td>0</td>\n",
       "      <td>1</td>\n",
       "    </tr>\n",
       "    <tr>\n",
       "      <th>3</th>\n",
       "      <td>0</td>\n",
       "      <td>0</td>\n",
       "      <td>0</td>\n",
       "      <td>0</td>\n",
       "      <td>0</td>\n",
       "      <td>0</td>\n",
       "      <td>0</td>\n",
       "      <td>0</td>\n",
       "      <td>0</td>\n",
       "      <td>0</td>\n",
       "      <td>...</td>\n",
       "      <td>0</td>\n",
       "      <td>0</td>\n",
       "      <td>0</td>\n",
       "      <td>0</td>\n",
       "      <td>0</td>\n",
       "      <td>0</td>\n",
       "      <td>0</td>\n",
       "      <td>0</td>\n",
       "      <td>0</td>\n",
       "      <td>1</td>\n",
       "    </tr>\n",
       "    <tr>\n",
       "      <th>4</th>\n",
       "      <td>0</td>\n",
       "      <td>0</td>\n",
       "      <td>0</td>\n",
       "      <td>0</td>\n",
       "      <td>0</td>\n",
       "      <td>0</td>\n",
       "      <td>0</td>\n",
       "      <td>0</td>\n",
       "      <td>0</td>\n",
       "      <td>0</td>\n",
       "      <td>...</td>\n",
       "      <td>0</td>\n",
       "      <td>0</td>\n",
       "      <td>0</td>\n",
       "      <td>0</td>\n",
       "      <td>0</td>\n",
       "      <td>0</td>\n",
       "      <td>0</td>\n",
       "      <td>0</td>\n",
       "      <td>0</td>\n",
       "      <td>1</td>\n",
       "    </tr>\n",
       "  </tbody>\n",
       "</table>\n",
       "<p>5 rows × 176 columns</p>\n",
       "</div>"
      ],
      "text/plain": [
       "   acoso  agar  agresión  amigo  amodio  analicer  aprieto  arab  arar  así  \\\n",
       "0      0     0         1      0       0         0        1     0     0    0   \n",
       "1      0     0         0      1       1         0        0     0     0    0   \n",
       "2      0     0         0      0       0         0        0     0     0    0   \n",
       "3      0     0         0      0       0         0        0     0     0    0   \n",
       "4      0     0         0      0       0         0        0     0     0    0   \n",
       "\n",
       "   ...  vez  vida  viola  voolka  vía  yogurines  you  árabe  él  label  \n",
       "0  ...    0     0      0       0    1          0    0      0   0      1  \n",
       "1  ...    0     1      0       0    0          0    0      0   0      1  \n",
       "2  ...    0     0      0       0    0          0    0      0   0      1  \n",
       "3  ...    0     0      0       0    0          0    0      0   0      1  \n",
       "4  ...    0     0      0       0    0          0    0      0   0      1  \n",
       "\n",
       "[5 rows x 176 columns]"
      ]
     },
     "execution_count": 14,
     "metadata": {},
     "output_type": "execute_result"
    }
   ],
   "source": [
    "bow.head()"
   ]
  }
 ],
 "metadata": {
  "kernelspec": {
   "display_name": "Python 3 (ipykernel)",
   "language": "python",
   "name": "python3"
  },
  "language_info": {
   "codemirror_mode": {
    "name": "ipython",
    "version": 3
   },
   "file_extension": ".py",
   "mimetype": "text/x-python",
   "name": "python",
   "nbconvert_exporter": "python",
   "pygments_lexer": "ipython3",
   "version": "3.12.3"
  }
 },
 "nbformat": 4,
 "nbformat_minor": 5
}
